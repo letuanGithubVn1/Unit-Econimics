{
  "nbformat": 4,
  "nbformat_minor": 0,
  "metadata": {
    "colab": {
      "provenance": [],
      "collapsed_sections": [
        "J0aOjI_85zuJ",
        "H0ox8IskBxmk",
        "k979BRrpEIIU"
      ],
      "toc_visible": true
    },
    "kernelspec": {
      "name": "python3",
      "display_name": "Python 3"
    },
    "language_info": {
      "name": "python"
    }
  },
  "cells": [
    {
      "cell_type": "markdown",
      "source": [
        "# **Unit Econimics**\n"
      ],
      "metadata": {
        "id": "QB2hIs-oSJDA"
      }
    },
    {
      "cell_type": "markdown",
      "source": [
        "## **1.Objective**\n"
      ],
      "metadata": {
        "id": "AW1q5gr7SYer"
      }
    },
    {
      "cell_type": "markdown",
      "source": [
        "+ This file is used for analyzing and calculating Unit Economics  for the month of March 2023.\n",
        "+ This is a software company named \"Streamline Pro\"\n",
        "+ Compute key performance metrics, including:\n",
        "  + CAC (Customer Acquisition Cost)\n",
        "  + ARPU (Average Revenue Per User)\n",
        "  + COGS (Cost of Goods Sold)\n",
        "  + Gross Margin\n",
        "  + LTV (Customer Lifetime Value)\n",
        "  + LTV/CAC Ratio"
      ],
      "metadata": {
        "id": "rpfztPhsScVb"
      }
    },
    {
      "cell_type": "markdown",
      "source": [
        "## **2.Import data**"
      ],
      "metadata": {
        "id": "Nzy3SJe11yDI"
      }
    },
    {
      "cell_type": "markdown",
      "source": [
        "You have a shared folder containing company data:\n",
        "https://drive.google.com/drive/folders/1qhOW9Y2orRXuzbX-kXEmuJ7TMQiRs2Uv?usp=drive_link"
      ],
      "metadata": {
        "id": "H3QTKHceUBx6"
      }
    },
    {
      "cell_type": "code",
      "execution_count": null,
      "metadata": {
        "id": "hUHs9etD1sNG"
      },
      "outputs": [],
      "source": [
        "import pandas as pd"
      ]
    },
    {
      "cell_type": "code",
      "source": [
        "google_sheet_id = '10OGbaywwMIqKgnPGy8VDvpBVtjyqln47iYa2lFhI9Mw'\n",
        "url='https://docs.google.com/spreadsheets/d/' + google_sheet_id + '/export?format=xlsx'\n",
        "monthly_expenses = pd.read_excel(url, sheet_name='Sheet1')"
      ],
      "metadata": {
        "id": "Og0KjkGy2qOB"
      },
      "execution_count": null,
      "outputs": []
    },
    {
      "cell_type": "code",
      "source": [
        "google_sheet_id = '1c_WihqTZCQvNgxzmd-OwhR9i5diwtfxXVLyMn8R-Lp4'\n",
        "url='https://docs.google.com/spreadsheets/d/' + google_sheet_id + '/export?format=xlsx'\n",
        "payroll = pd.read_excel(url, sheet_name='Sheet1')"
      ],
      "metadata": {
        "id": "bezWLbsS5cF-"
      },
      "execution_count": null,
      "outputs": []
    },
    {
      "cell_type": "code",
      "source": [
        "google_sheet_id = '1AZOIThOV4P-0eYDge53ZwumVkfkHoYPWxst3k3Bv87c'\n",
        "url='https://docs.google.com/spreadsheets/d/' + google_sheet_id + '/export?format=xlsx'\n",
        "daily_marketing = pd.read_excel(url, sheet_name='Sheet1')"
      ],
      "metadata": {
        "id": "n3p-YiD69-T6"
      },
      "execution_count": null,
      "outputs": []
    },
    {
      "cell_type": "code",
      "source": [
        "google_sheet_id = '1qayqML1zCKdmtzutkcy9LWvE6xFRm6TGBEVkHHJKIuE'\n",
        "url='https://docs.google.com/spreadsheets/d/' + google_sheet_id + '/export?format=xlsx'\n",
        "payments = pd.read_excel(url, sheet_name='Sheet1')"
      ],
      "metadata": {
        "id": "TF23cJQ__Kte"
      },
      "execution_count": null,
      "outputs": []
    },
    {
      "cell_type": "code",
      "source": [
        "google_sheet_id = '1by8tPHwOnq3uKYK2E7sA9VBUYoPM4p1Rnrm_Ss9cyHI'\n",
        "url='https://docs.google.com/spreadsheets/d/' + google_sheet_id + '/export?format=xlsx'\n",
        "lifespan = pd.read_excel(url, sheet_name='Sheet1')"
      ],
      "metadata": {
        "id": "V5M2_VuRKme_"
      },
      "execution_count": null,
      "outputs": []
    },
    {
      "cell_type": "markdown",
      "source": [
        "## **3.Unit Economics**"
      ],
      "metadata": {
        "id": "ngVpNDyBUX4r"
      }
    },
    {
      "cell_type": "markdown",
      "source": [
        "### 1.Customer Acquisition Cost(CAC)"
      ],
      "metadata": {
        "id": "J0aOjI_85zuJ"
      }
    },
    {
      "cell_type": "markdown",
      "source": [
        "Customer Acquisition Cost (CAC) is the total cost a business spends to acquire a new customer"
      ],
      "metadata": {
        "id": "b37-nMNRGXQc"
      }
    },
    {
      "cell_type": "markdown",
      "source": [
        "#### 1.1 Software Marketing Expense"
      ],
      "metadata": {
        "id": "ShYkzuug4yBf"
      }
    },
    {
      "cell_type": "markdown",
      "source": [
        "Calculate CRM software costs like Salesforce as part of your total expenses, because these tools don’t just serve current customers — they also help turn potential leads into paying ones.\n"
      ],
      "metadata": {
        "id": "_EsBJq7M8M78"
      }
    },
    {
      "cell_type": "code",
      "source": [
        "expense_202303 = monthly_expenses[monthly_expenses['month'] == '2023-03-1']"
      ],
      "metadata": {
        "id": "LZQfS7cG3p6d"
      },
      "execution_count": null,
      "outputs": []
    },
    {
      "cell_type": "code",
      "source": [
        "crm_expense = expense_202303[expense_202303['item'] == 'Salesforce']['amount'].reset_index(drop=True)[0]\n",
        "crm_expense"
      ],
      "metadata": {
        "colab": {
          "base_uri": "https://localhost:8080/"
        },
        "id": "ifOFoz6Q37iQ",
        "outputId": "eefeea88-6e3e-4032-f79a-4236faf7a86a"
      },
      "execution_count": null,
      "outputs": [
        {
          "output_type": "execute_result",
          "data": {
            "text/plain": [
              "np.int64(1700)"
            ]
          },
          "metadata": {},
          "execution_count": 8
        }
      ]
    },
    {
      "cell_type": "markdown",
      "source": [
        "#### 1.2 Salaries"
      ],
      "metadata": {
        "id": "UJ9kDu-h5nJD"
      }
    },
    {
      "cell_type": "markdown",
      "source": [
        "Calculate the personnel salary costs of the Marketing and Sales departments, as these teams are directly involved in acquiring new customers\n"
      ],
      "metadata": {
        "id": "2WXLslD1ALcq"
      }
    },
    {
      "cell_type": "code",
      "source": [
        "payroll_202303 = payroll[payroll['month'] == '2023-03-01']\n",
        "payroll_marketing_sales = payroll_202303[(payroll_202303['department'] == 'Marketing') | (payroll_202303['department'] == 'Sales')]['paid'].sum()\n",
        "payroll_marketing_sales"
      ],
      "metadata": {
        "colab": {
          "base_uri": "https://localhost:8080/"
        },
        "id": "wb7yhtNp5lT1",
        "outputId": "95c21d85-ab20-43e4-86f0-a2504eccd2b0"
      },
      "execution_count": null,
      "outputs": [
        {
          "output_type": "execute_result",
          "data": {
            "text/plain": [
              "np.int64(5950)"
            ]
          },
          "metadata": {},
          "execution_count": 9
        }
      ]
    },
    {
      "cell_type": "markdown",
      "source": [
        "#### 1.3 Daily Marketing Expenses"
      ],
      "metadata": {
        "id": "-lCfxfzY9m9l"
      }
    },
    {
      "cell_type": "markdown",
      "source": [
        "Compute the total advertising expenses incurred to acquire new customers during the month of March."
      ],
      "metadata": {
        "id": "m_9_q03UBXzO"
      }
    },
    {
      "cell_type": "code",
      "source": [
        "daily_marketing_202303 = daily_marketing[(daily_marketing['date'] >= '2023-03-01') & (daily_marketing['date'] <= '2023-03-31')]\n",
        "daily_marketing_expense = daily_marketing_202303 ['spending'].sum()\n",
        "daily_marketing_expense"
      ],
      "metadata": {
        "colab": {
          "base_uri": "https://localhost:8080/"
        },
        "id": "_ymJn-gT-f8g",
        "outputId": "e95a7fca-56e1-4672-bcf1-4f47456aa490"
      },
      "execution_count": null,
      "outputs": [
        {
          "output_type": "execute_result",
          "data": {
            "text/plain": [
              "np.int64(68830)"
            ]
          },
          "metadata": {},
          "execution_count": 10
        }
      ]
    },
    {
      "cell_type": "markdown",
      "source": [
        "#### 1.4 Number of Customer"
      ],
      "metadata": {
        "id": "QGWHVRRx_Xw_"
      }
    },
    {
      "cell_type": "markdown",
      "source": [
        "Number of new customers in March"
      ],
      "metadata": {
        "id": "Z6lV6BHeB__J"
      }
    },
    {
      "cell_type": "code",
      "source": [
        "payments_202303 = payments[(payments['date'] >= '2023-03-01') & (payments['date'] <= '2023-03-31')]"
      ],
      "metadata": {
        "id": "tPSY3SWE__iz"
      },
      "execution_count": null,
      "outputs": []
    },
    {
      "cell_type": "code",
      "source": [
        "number_of_new_customer = payments_202303[payments_202303['new_customer'] == 1]['customer_id'].nunique()\n",
        "number_of_new_customer"
      ],
      "metadata": {
        "colab": {
          "base_uri": "https://localhost:8080/"
        },
        "id": "yfsHZKpJAf86",
        "outputId": "f434be88-f6f2-4caf-c34f-151f0cd42b1f"
      },
      "execution_count": null,
      "outputs": [
        {
          "output_type": "execute_result",
          "data": {
            "text/plain": [
              "63"
            ]
          },
          "metadata": {},
          "execution_count": 12
        }
      ]
    },
    {
      "cell_type": "markdown",
      "source": [
        "#### 1.5 CAC Calculation\n"
      ],
      "metadata": {
        "id": "UpI7HezhLVX8"
      }
    },
    {
      "cell_type": "markdown",
      "source": [
        "Customer Acquisition Cost (CAC) is calculated by dividing the total of these costs by the number of new customers."
      ],
      "metadata": {
        "id": "8W2Qvp6ECYfI"
      }
    },
    {
      "cell_type": "code",
      "source": [
        "cac = (crm_expense + payroll_marketing_sales + daily_marketing_expense) / number_of_new_customer\n",
        "cac"
      ],
      "metadata": {
        "colab": {
          "base_uri": "https://localhost:8080/"
        },
        "id": "u7CSLbSlBCIp",
        "outputId": "b8b7aefb-aa7a-4f0f-8697-1050bbc1bc26"
      },
      "execution_count": null,
      "outputs": [
        {
          "output_type": "execute_result",
          "data": {
            "text/plain": [
              "np.float64(1213.968253968254)"
            ]
          },
          "metadata": {},
          "execution_count": 13
        }
      ]
    },
    {
      "cell_type": "markdown",
      "source": [
        "### 2.Average Revenue Per User(ARPU)\n"
      ],
      "metadata": {
        "id": "H0ox8IskBxmk"
      }
    },
    {
      "cell_type": "markdown",
      "source": [
        "ARPU (Average Revenue Per User) is the average revenue generated from each customer over a specific period.\n"
      ],
      "metadata": {
        "id": "Ky0__eR6FcB8"
      }
    },
    {
      "cell_type": "markdown",
      "source": [
        "#### 2.1 Total Revenue\n"
      ],
      "metadata": {
        "id": "Uv4UwTDOCLBd"
      }
    },
    {
      "cell_type": "markdown",
      "source": [
        "Compute the total revenue by aggregating the values in the receipt_amount column of the receipts_history csv."
      ],
      "metadata": {
        "id": "JLTskk_UE6bp"
      }
    },
    {
      "cell_type": "code",
      "source": [
        "total_revenue = payments_202303['receipt_amount'].sum()"
      ],
      "metadata": {
        "id": "Qq5ykX8rCN4U"
      },
      "execution_count": null,
      "outputs": []
    },
    {
      "cell_type": "markdown",
      "source": [
        "#### 2.2 Number of customers"
      ],
      "metadata": {
        "id": "v5SEW9bqCuDX"
      }
    },
    {
      "cell_type": "code",
      "source": [
        "number_of_customer = payments_202303['customer_id'].nunique()\n",
        "number_of_customer"
      ],
      "metadata": {
        "colab": {
          "base_uri": "https://localhost:8080/"
        },
        "id": "GpiRyAn_Cvz8",
        "outputId": "afe3893e-f53a-4ce5-a477-9afcaa8746b9"
      },
      "execution_count": null,
      "outputs": [
        {
          "output_type": "execute_result",
          "data": {
            "text/plain": [
              "292"
            ]
          },
          "metadata": {},
          "execution_count": 15
        }
      ]
    },
    {
      "cell_type": "markdown",
      "source": [
        "#### 2.3 ARPU Calculation\n"
      ],
      "metadata": {
        "id": "MnZMg6rcLN1G"
      }
    },
    {
      "cell_type": "code",
      "metadata": {
        "colab": {
          "base_uri": "https://localhost:8080/"
        },
        "id": "5b879dc2",
        "outputId": "b998b3e4-1f94-4ac9-ebee-678fc73cd737"
      },
      "source": [
        "arpu = total_revenue / number_of_customer\n",
        "arpu"
      ],
      "execution_count": null,
      "outputs": [
        {
          "output_type": "execute_result",
          "data": {
            "text/plain": [
              "np.float64(284.3595890410959)"
            ]
          },
          "metadata": {},
          "execution_count": 16
        }
      ]
    },
    {
      "cell_type": "markdown",
      "source": [
        "### 3.Cost of Goods Sold(COGS)\n",
        "\n"
      ],
      "metadata": {
        "id": "k979BRrpEIIU"
      }
    },
    {
      "cell_type": "markdown",
      "source": [
        "COGS (Cost of Goods Sold) is the total direct cost incurred to produce or purchase the products sold within a specific period. In this case, since the company operates in the technology sector, COGS is calculated based on the expenses for software used to support business operations."
      ],
      "metadata": {
        "id": "z8DY8QszHezC"
      }
    },
    {
      "cell_type": "markdown",
      "source": [
        "#### 3.1 Software expenses"
      ],
      "metadata": {
        "id": "9TEVJo8tEMeb"
      }
    },
    {
      "cell_type": "markdown",
      "source": [
        "Account for the expenses of software tools that are directly involved in the operation of the product system, such as AWS, Google Cloud, and Jira"
      ],
      "metadata": {
        "id": "kH7zo2CQHjzs"
      }
    },
    {
      "cell_type": "code",
      "source": [
        "production_softwares = ['AWS Hosting', 'Google Cloud Storage', 'Atlassian Jira']\n",
        "production_expense = expense_202303[expense_202303['item'].isin(production_softwares)] ['amount'].sum()\n",
        "production_expense"
      ],
      "metadata": {
        "colab": {
          "base_uri": "https://localhost:8080/"
        },
        "id": "N80iDTx6EnLu",
        "outputId": "f00b8878-825e-4f7a-f7ef-10179a7e5a36"
      },
      "execution_count": null,
      "outputs": [
        {
          "output_type": "execute_result",
          "data": {
            "text/plain": [
              "np.int64(14200)"
            ]
          },
          "metadata": {},
          "execution_count": 18
        }
      ]
    },
    {
      "cell_type": "markdown",
      "source": [
        "Common tools used for internal operations, like Slack and Zoom, should be split with 60% of the cost allocated to COGS and the remaining 40% considered general operating expenses. **Note: This ratio may vary depending on the company.**"
      ],
      "metadata": {
        "id": "F-Mj2XtQKwfJ"
      }
    },
    {
      "cell_type": "code",
      "source": [
        "shared_softwares = ['Slack', 'Zoom']\n",
        "shared_expense = expense_202303 [expense_202303['item'].isin(shared_softwares)] ['amount'].sum() * 0.6"
      ],
      "metadata": {
        "id": "51dTVqC-FqBL"
      },
      "execution_count": null,
      "outputs": []
    },
    {
      "cell_type": "markdown",
      "source": [
        "#### 3.2 salaries for Engineering"
      ],
      "metadata": {
        "id": "RFPBfd7gM_TY"
      }
    },
    {
      "cell_type": "markdown",
      "source": [
        "Salary costs for the engineering team – the people who directly build the product or service."
      ],
      "metadata": {
        "id": "hPzcbzlSMFj7"
      }
    },
    {
      "cell_type": "code",
      "source": [
        "production_salary = payroll_202303[payroll_202303['department'] == 'Engineering']['paid'].sum()"
      ],
      "metadata": {
        "id": "9PPzNLbyNkaU"
      },
      "execution_count": null,
      "outputs": []
    },
    {
      "cell_type": "markdown",
      "source": [
        "#### 3.3 COGS Calculation\n"
      ],
      "metadata": {
        "id": "iqJmyMOtHFjr"
      }
    },
    {
      "cell_type": "code",
      "source": [
        "cogs = production_expense + shared_expense + production_salary\n",
        "cogs"
      ],
      "metadata": {
        "id": "NgTgYEm_HD1F",
        "colab": {
          "base_uri": "https://localhost:8080/"
        },
        "outputId": "9f0a1e58-0662-4c41-ef90-02eb05135a5f"
      },
      "execution_count": null,
      "outputs": [
        {
          "output_type": "execute_result",
          "data": {
            "text/plain": [
              "np.float64(20264.0)"
            ]
          },
          "metadata": {},
          "execution_count": 24
        }
      ]
    },
    {
      "cell_type": "markdown",
      "source": [
        "### 4.Gross Margin"
      ],
      "metadata": {
        "id": "B_kgVYQEOfo1"
      }
    },
    {
      "cell_type": "code",
      "source": [
        "gross_margin = (total_revenue - cogs) / total_revenue * 100\n",
        "gross_margin"
      ],
      "metadata": {
        "colab": {
          "base_uri": "https://localhost:8080/"
        },
        "id": "V4VjABmtOn0s",
        "outputId": "e8d073fb-7cd9-4857-e4c9-b6e02569e62c"
      },
      "execution_count": null,
      "outputs": [
        {
          "output_type": "execute_result",
          "data": {
            "text/plain": [
              "np.float64(75.5952452639312)"
            ]
          },
          "metadata": {},
          "execution_count": 25
        }
      ]
    },
    {
      "cell_type": "markdown",
      "source": [
        "### 5.Customer Lifetime Value (LTV)"
      ],
      "metadata": {
        "id": "CvT2KypFO-rR"
      }
    },
    {
      "cell_type": "markdown",
      "source": [
        "Customer Lifetime Value (LTV) is a metric that measures the total value a customer brings to a business over the entire period they remain a customer."
      ],
      "metadata": {
        "id": "hcOIbWg8NmZQ"
      }
    },
    {
      "cell_type": "markdown",
      "source": [
        "Calculating the average customer lifespan:\n",
        "- **lifespan_days**: The number of days each customer stays with the company, from the start date to the churn date.\n",
        "\n",
        "- **avg_lifespan_days**: The average number of days customers stay with the company."
      ],
      "metadata": {
        "id": "7EHHG-2RN79O"
      }
    },
    {
      "cell_type": "code",
      "source": [
        "lifespan['lifespan_days'] = (lifespan['churn_date'] - lifespan['start_date']).dt.days\n",
        "avg_lifespan_days = lifespan['lifespan_days'].mean()\n",
        "avg_lifespan_days"
      ],
      "metadata": {
        "colab": {
          "base_uri": "https://localhost:8080/"
        },
        "id": "scw0UsbMIwO8",
        "outputId": "1a5abc98-adc8-4ab6-f7f2-c9a496d878bb"
      },
      "execution_count": null,
      "outputs": [
        {
          "output_type": "execute_result",
          "data": {
            "text/plain": [
              "np.float64(295.24)"
            ]
          },
          "metadata": {},
          "execution_count": 34
        }
      ]
    },
    {
      "cell_type": "markdown",
      "source": [
        "Convert to months to match the unit of ARPU, which is calculated monthly"
      ],
      "metadata": {
        "id": "jVGQQ3_bPzct"
      }
    },
    {
      "cell_type": "code",
      "source": [
        "avg_lifespan_month = avg_lifespan_days / 30\n",
        "avg_lifespan_month"
      ],
      "metadata": {
        "colab": {
          "base_uri": "https://localhost:8080/"
        },
        "id": "CVc7LJA-LhIs",
        "outputId": "eab5d31a-c589-4589-b57e-2e83541c08d4"
      },
      "execution_count": null,
      "outputs": [
        {
          "output_type": "execute_result",
          "data": {
            "text/plain": [
              "np.float64(9.841333333333333)"
            ]
          },
          "metadata": {},
          "execution_count": 35
        }
      ]
    },
    {
      "cell_type": "code",
      "source": [
        "ltv = arpu * avg_lifespan_month * gross_margin\n",
        "ltv"
      ],
      "metadata": {
        "id": "4de3-elxMKI0",
        "colab": {
          "base_uri": "https://localhost:8080/"
        },
        "outputId": "8635926f-40d4-46e3-a6e6-e6265e6abb49"
      },
      "execution_count": null,
      "outputs": [
        {
          "output_type": "execute_result",
          "data": {
            "text/plain": [
              "np.float64(211551.59315068493)"
            ]
          },
          "metadata": {},
          "execution_count": 39
        }
      ]
    },
    {
      "cell_type": "markdown",
      "source": [
        "### 6.LTV/CAC"
      ],
      "metadata": {
        "id": "NzpjE2mGQVei"
      }
    },
    {
      "cell_type": "markdown",
      "source": [
        "LTV/CAC is a ratio that measures the effectiveness of investment in acquiring customers"
      ],
      "metadata": {
        "id": "yqSS5JCjQUGE"
      }
    },
    {
      "cell_type": "code",
      "source": [
        "ltv/cac"
      ],
      "metadata": {
        "colab": {
          "base_uri": "https://localhost:8080/"
        },
        "id": "RG1Cc-GbQjQI",
        "outputId": "96e82b28-1ca9-4305-8b89-e79660c8f497"
      },
      "execution_count": null,
      "outputs": [
        {
          "output_type": "execute_result",
          "data": {
            "text/plain": [
              "np.float64(174.26451841648995)"
            ]
          },
          "metadata": {},
          "execution_count": 40
        }
      ]
    },
    {
      "cell_type": "markdown",
      "source": [
        "##**4.Summary Report of Financial Metrics March 2023**"
      ],
      "metadata": {
        "id": "xzm8DkRSYaCw"
      }
    },
    {
      "cell_type": "markdown",
      "source": [
        "### 4.1. Customer Acquisition Cost (CAC)"
      ],
      "metadata": {
        "id": "2NQa1I6cY87_"
      }
    },
    {
      "cell_type": "markdown",
      "source": [
        "- **Result:** 1,213.97\n",
        "- **Comment**: The average Customer Acquisition Cost (CAC) for SaaS businesses typically falls between 200$ and 700$ (**Source: [firstpagesage.com]((https://firstpagesage.com/marketing/average-cac-for-saas-businesses-by-industry-and-customer-type-fc/))**) → Elevated acquisition costs may require strategic optimization.\n"
      ],
      "metadata": {
        "id": "leGStj32eGty"
      }
    },
    {
      "cell_type": "markdown",
      "source": [
        "### 4.2 Average Revenue Per User (ARPU)"
      ],
      "metadata": {
        "id": "wT4n97I7gojv"
      }
    },
    {
      "cell_type": "markdown",
      "source": [
        "- **Result:** 284.36  \n",
        "- **Comment**:\n",
        "ARPU is relatively low compared to CAC. However, this can still be suitable for SaaS (subscription-based) models if customers are retained long enough.\n",
        "\n",
        "\n",
        "\n"
      ],
      "metadata": {
        "id": "yg66JydCgo50"
      }
    },
    {
      "cell_type": "markdown",
      "source": [
        "### 4.3 Gross Margin"
      ],
      "metadata": {
        "id": "ml7hBwcdh9wa"
      }
    },
    {
      "cell_type": "markdown",
      "source": [
        "- **Result:** 75.60%\n",
        "- **Comment:** This is a very high profit margin, which fits well with the software (SaaS) business model. According to KeyBanc and OpenView research, the industry average is around 70–80%\n"
      ],
      "metadata": {
        "id": "LsRKSp93ihgS"
      }
    },
    {
      "cell_type": "markdown",
      "source": [
        "### 4.4 Customer Lifetime Value (LTV)"
      ],
      "metadata": {
        "id": "Sethu4XFjpb4"
      }
    },
    {
      "cell_type": "markdown",
      "source": [
        "- **Result**: 211,551.59\n",
        "- **Comment**: LTV is much higher than CAC, which shows that the value customers bring over their lifetime is very good. This is a sign of a sustainable business model with strong customer retention.\n",
        "\n",
        "\n",
        "\n"
      ],
      "metadata": {
        "id": "mvZt545fjpF7"
      }
    }
  ]
}